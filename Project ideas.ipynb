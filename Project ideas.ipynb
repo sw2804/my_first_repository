{
 "cells": [
  {
   "cell_type": "markdown",
   "metadata": {},
   "source": [
    "## Three Project Ideas"
   ]
  },
  {
   "cell_type": "markdown",
   "metadata": {},
   "source": [
    "### 1. International students in the US\n",
    "With the election of trump and his stand on immigration, especially OPT, international students may be discouraged from coming to the US. I want to look at how the number of international students changes overtime. Also does the composition of international student chnages? For example, their country of rigin, the education level and area they plan to pursue in the US, and states they choose to study in. Possible data source is from [Institute of International Education Open Doors](https://www.iie.org/en/Research-and-Insights/Open-Doors/Data/International-Students)\n",
    "\n",
    "The enrollment data is in Excel sheets. It provides total enrollemt from 1948 to 2016/17 and new international enrollment data from 2015/16 and 2016/17. There is another excel sheet with countries of origin and institution type associated with each country for two years 2015/16 and 2016/17.The drawback is there is no most recent data 2017/18.\n",
    "\n",
    "I anticipate that the project will have several graphs depicting demographics of international students, also the trend in enrollments.And numbers on percentage change. [This study](https://www.nsf.gov/statistics/2018/nsb20181/assets/561/tables/tt02-10.pdf) mentioned a government database, which will be helpful if I can figure out how to access it."
   ]
  },
  {
   "cell_type": "markdown",
   "metadata": {},
   "source": [
    "### 2. Mortality in New York\n",
    "Inspired by Case and Deaton's [paper](http://www.pnas.org/content/pnas/112/49/15078.full.pdf) on increased mortality of midlife whites. I want to look at mortality data in new york by cause, ethnicity and age. See if the same trend applies on a city level, and potentially discover any special trend that appears in NYC.\n",
    "\n",
    "The dataset I plan to use is on [NYC Open data](https://data.cityofnewyork.us/Health/New-York-City-Leading-Causes-of-Death/jb7j-dtam). It can be access through The Socrata Open Data API. It has data on year, demographic of the deseaced, cause of death, and death rate within the same ethnicity and sex for the same cause. The cause is described in text, which may pose a chanllenge.\n",
    "\n",
    "I anticipate the project will at least have a graph depicting the trend of death for each ethnicity, and trend for cause of death. A statistic portion depicting the mean, changes and CI for changes of each cause may also be shown. "
   ]
  },
  {
   "cell_type": "markdown",
   "metadata": {},
   "source": [
    "### 3. Opioid Prescription\n",
    "Inspired by  Schnell and Currie's [paper](http://www.nber.org/papers/w23645.pdf) on correlation between opioid prescription and medical school ranking, I would like to invetigte more into opioid prescription in this country. In their study, they purchased data from QuintilesIMS. I find a open dataset similar to what hey have [here](https://data.cms.gov/Medicare-Claims/Medicare-Part-D-Opioid-Prescriber-Summary-File-201/e4ka-3ncx)\n",
    "\n",
    "The dataset is an API. It contains information about prescribers name, practice address and type, as well as prescribing rate. However, it does not have information on prescribers education or gender. It would be ideal if i can find information on these characteristics.\n",
    "\n",
    "I anticipate the project to have a map indicating opioid prescription by state and a graph indicating specialties. I'm especially interested in if detists are over-prescribing opoiods. If I can find information on prescriber's gender, I would like to know if female doctors are more likely to prescribe opioids."
   ]
  },
  {
   "cell_type": "markdown",
   "metadata": {},
   "source": [
    "### 3. Map of Noise\n",
    "I would like to use data on noise complain from [311 service request dataset](https://data.cityofnewyork.us/Social-Services/311-Service-Requests-from-2010-to-Present/erm2-nwe9) on NYC Open Data, and map out the level of noise complain on a NYC map. With bars coming out of the map indicating amount of complains for each area.  \n",
    "\n",
    "The dataset is an API. It contains location data of the complain in both text and coordinate, as well as time of the complain. I would also like to, if possible, indicate noise complain level at different times within a day.\n",
    "\n",
    "Another idea along the same line is to use data on film permits and map out locations in New York that mostly likely to be filmed, and during which time period. The traffic could be indicated as level of brightness or size of a circle on a NYC map."
   ]
  },
  {
   "cell_type": "code",
   "execution_count": null,
   "metadata": {
    "collapsed": true
   },
   "outputs": [],
   "source": []
  }
 ],
 "metadata": {
  "kernelspec": {
   "display_name": "Python 3",
   "language": "python",
   "name": "python3"
  },
  "language_info": {
   "codemirror_mode": {
    "name": "ipython",
    "version": 3
   },
   "file_extension": ".py",
   "mimetype": "text/x-python",
   "name": "python",
   "nbconvert_exporter": "python",
   "pygments_lexer": "ipython3",
   "version": "3.6.3"
  }
 },
 "nbformat": 4,
 "nbformat_minor": 2
}
